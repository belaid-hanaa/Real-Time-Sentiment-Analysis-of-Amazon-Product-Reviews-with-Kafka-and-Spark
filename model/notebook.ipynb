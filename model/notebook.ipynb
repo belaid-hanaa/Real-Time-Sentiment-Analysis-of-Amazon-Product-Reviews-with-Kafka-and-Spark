{
 "cells": [
  {
   "cell_type": "code",
   "execution_count": 82,
   "id": "e7a28d4e",
   "metadata": {},
   "outputs": [],
   "source": [
    "from pyspark.sql import SparkSession\n",
    "\n",
    "spark = SparkSession.builder.appName(\"JSON Reader\").getOrCreate()\n",
    "df = spark.read.json(\"Data.json\")\n"
   ]
  },
  {
   "cell_type": "code",
   "execution_count": 83,
   "id": "895a9110",
   "metadata": {},
   "outputs": [
    {
     "name": "stdout",
     "output_type": "stream",
     "text": [
      "root\n",
      " |-- asin: string (nullable = true)\n",
      " |-- helpful: array (nullable = true)\n",
      " |    |-- element: long (containsNull = true)\n",
      " |-- overall: double (nullable = true)\n",
      " |-- reviewText: string (nullable = true)\n",
      " |-- reviewTime: string (nullable = true)\n",
      " |-- reviewerID: string (nullable = true)\n",
      " |-- reviewerName: string (nullable = true)\n",
      " |-- summary: string (nullable = true)\n",
      " |-- unixReviewTime: long (nullable = true)\n",
      "\n"
     ]
    }
   ],
   "source": [
    "df.printSchema() "
   ]
  },
  {
   "cell_type": "code",
   "execution_count": 84,
   "id": "edbd10fa",
   "metadata": {},
   "outputs": [
    {
     "name": "stdout",
     "output_type": "stream",
     "text": [
      "+----------+--------+-------+--------------------+-----------+--------------+--------------------+--------------------+--------------+\n",
      "|      asin| helpful|overall|          reviewText| reviewTime|    reviewerID|        reviewerName|             summary|unixReviewTime|\n",
      "+----------+--------+-------+--------------------+-----------+--------------+--------------------+--------------------+--------------+\n",
      "|1384719342|  [0, 0]|    5.0|Not much to write...|02 28, 2014|A2IBPI20UZIR0U|cassandra tu \"Yea...|                good|    1393545600|\n",
      "|1384719342|[13, 14]|    5.0|The product does ...|03 16, 2013|A14VAT5EAX3D9S|                Jake|                Jake|    1363392000|\n",
      "|1384719342|  [1, 1]|    5.0|The primary job o...|08 28, 2013|A195EZSQDW3E21|Rick Bennette \"Ri...|It Does The Job Well|    1377648000|\n",
      "|1384719342|  [0, 0]|    5.0|Nice windscreen p...|02 14, 2014|A2C00NNG1ZQQG2|RustyBill \"Sunday...|GOOD WINDSCREEN F...|    1392336000|\n",
      "|1384719342|  [0, 0]|    5.0|This pop filter i...|02 21, 2014| A94QU4C90B1AX|       SEAN MASLANKA|No more pops when...|    1392940800|\n",
      "+----------+--------+-------+--------------------+-----------+--------------+--------------------+--------------------+--------------+\n",
      "only showing top 5 rows\n",
      "\n"
     ]
    }
   ],
   "source": [
    "df.show(5)  "
   ]
  },
  {
   "cell_type": "code",
   "execution_count": 85,
   "id": "da569585",
   "metadata": {},
   "outputs": [],
   "source": [
    "from pyspark.sql.functions import col\n",
    "\n",
    "df = df.select(\"reviewText\", \"overall\")\n",
    "df = df.na.drop(subset=[\"reviewText\", \"overall\"])"
   ]
  },
  {
   "cell_type": "code",
   "execution_count": 86,
   "id": "766f2db6",
   "metadata": {},
   "outputs": [
    {
     "name": "stdout",
     "output_type": "stream",
     "text": [
      "+--------------------+-------+\n",
      "|          reviewText|overall|\n",
      "+--------------------+-------+\n",
      "|Not much to write...|    5.0|\n",
      "|The product does ...|    5.0|\n",
      "|The primary job o...|    5.0|\n",
      "|Nice windscreen p...|    5.0|\n",
      "|This pop filter i...|    5.0|\n",
      "+--------------------+-------+\n",
      "only showing top 5 rows\n",
      "\n"
     ]
    }
   ],
   "source": [
    "df.show(5)  "
   ]
  },
  {
   "cell_type": "code",
   "execution_count": 87,
   "id": "46ed5f18",
   "metadata": {},
   "outputs": [],
   "source": [
    "from pyspark.sql.functions import when, col\n",
    "\n",
    "df = df.withColumn(\n",
    "    \"label\",\n",
    "    when(col(\"overall\") < 3, 0)\n",
    "    .when(col(\"overall\") == 3, 1)\n",
    "    .otherwise(2)\n",
    ")"
   ]
  },
  {
   "cell_type": "code",
   "execution_count": 88,
   "id": "a085a8aa",
   "metadata": {},
   "outputs": [
    {
     "name": "stdout",
     "output_type": "stream",
     "text": [
      "+--------------------+-------+-----+\n",
      "|          reviewText|overall|label|\n",
      "+--------------------+-------+-----+\n",
      "|Not much to write...|    5.0|    2|\n",
      "|The product does ...|    5.0|    2|\n",
      "|The primary job o...|    5.0|    2|\n",
      "|Nice windscreen p...|    5.0|    2|\n",
      "|This pop filter i...|    5.0|    2|\n",
      "+--------------------+-------+-----+\n",
      "only showing top 5 rows\n",
      "\n"
     ]
    }
   ],
   "source": [
    "df.show(5)"
   ]
  },
  {
   "cell_type": "code",
   "execution_count": 89,
   "id": "442b186a",
   "metadata": {},
   "outputs": [
    {
     "name": "stderr",
     "output_type": "stream",
     "text": [
      "[nltk_data] Downloading package stopwords to /nltk_data...\n",
      "[nltk_data]   Package stopwords is already up-to-date!\n",
      "[nltk_data] Downloading package wordnet to /nltk_data...\n",
      "[nltk_data]   Package wordnet is already up-to-date!\n"
     ]
    }
   ],
   "source": [
    "import re\n",
    "from pyspark.sql.functions import udf, col\n",
    "from pyspark.sql.types import StringType\n",
    "\n",
    "import nltk\n",
    "from nltk.stem import WordNetLemmatizer\n",
    "from nltk.corpus import stopwords\n",
    "\n",
    "nltk.download('stopwords')\n",
    "nltk.download('wordnet')\n",
    "\n",
    "\n",
    "stop_words = set(stopwords.words('english'))\n",
    "lemmatizer = WordNetLemmatizer()\n",
    "\n",
    "def clean_text(text):\n",
    "    if text is None:\n",
    "        return \"\"\n",
    "    text = re.sub(r'[^a-zA-Z]', ' ', text.lower())\n",
    "    tokens = text.split()\n",
    "    tokens = [lemmatizer.lemmatize(word) for word in tokens if word not in stop_words]\n",
    "    return ' '.join(tokens)\n",
    "\n",
    "clean_text_udf = udf(clean_text, StringType())\n",
    "\n",
    "df = df.withColumn(\"clean_text\", clean_text_udf(col(\"reviewText\")))\n"
   ]
  },
  {
   "cell_type": "code",
   "execution_count": 70,
   "id": "793bf5f6",
   "metadata": {},
   "outputs": [
    {
     "name": "stderr",
     "output_type": "stream",
     "text": [
      "[Stage 830:>                                                        (0 + 1) / 1]\r"
     ]
    },
    {
     "name": "stdout",
     "output_type": "stream",
     "text": [
      "+--------------------+-------+-----+--------------------+\n",
      "|          reviewText|overall|label|          clean_text|\n",
      "+--------------------+-------+-----+--------------------+\n",
      "|Not much to write...|    5.0|    2|much write exactl...|\n",
      "|The product does ...|    5.0|    2|product exactly q...|\n",
      "|The primary job o...|    5.0|    2|primary job devic...|\n",
      "|Nice windscreen p...|    5.0|    2|nice windscreen p...|\n",
      "|This pop filter i...|    5.0|    2|pop filter great ...|\n",
      "+--------------------+-------+-----+--------------------+\n",
      "only showing top 5 rows\n",
      "\n"
     ]
    },
    {
     "name": "stderr",
     "output_type": "stream",
     "text": [
      "                                                                                \r"
     ]
    }
   ],
   "source": [
    "df.show(5)"
   ]
  },
  {
   "cell_type": "code",
   "execution_count": 71,
   "id": "e241539d",
   "metadata": {},
   "outputs": [],
   "source": [
    "from pyspark.ml.feature import Tokenizer, StopWordsRemover, HashingTF, IDF\n",
    "from pyspark.ml import Pipeline\n",
    "\n",
    "tokenizer = Tokenizer(inputCol=\"clean_text\", outputCol=\"words\")\n",
    "\n",
    "remover = StopWordsRemover(inputCol=\"words\", outputCol=\"filtered_words\")\n",
    "\n",
    "hashingTF = HashingTF(inputCol=\"filtered_words\", outputCol=\"rawFeatures\", numFeatures=5000)\n",
    "\n",
    "# 4. IDF : calcule le TF-IDF\n",
    "idf = IDF(inputCol=\"rawFeatures\", outputCol=\"features\")"
   ]
  },
  {
   "cell_type": "code",
   "execution_count": 72,
   "id": "e6eaa361",
   "metadata": {},
   "outputs": [
    {
     "name": "stderr",
     "output_type": "stream",
     "text": [
      "                                                                                \r"
     ]
    }
   ],
   "source": [
    "words_data = tokenizer.transform(df)\n",
    "filtered_data = remover.transform(words_data)\n",
    "featurized_data = hashingTF.transform(filtered_data)\n",
    "idf_model = idf.fit(featurized_data)\n",
    "df_tfidf = idf_model.transform(featurized_data)"
   ]
  },
  {
   "cell_type": "code",
   "execution_count": 73,
   "id": "2c383428",
   "metadata": {},
   "outputs": [],
   "source": [
    "train_full, test = df_tfidf.randomSplit([0.8, 0.2], seed=42)\n",
    "train, val = train_full.randomSplit([0.875, 0.125], seed=42)"
   ]
  },
  {
   "cell_type": "code",
   "execution_count": 74,
   "id": "1bd8433a",
   "metadata": {},
   "outputs": [
    {
     "name": "stdout",
     "output_type": "stream",
     "text": [
      "Avant sur-échantillonnage (train) :\n"
     ]
    },
    {
     "name": "stderr",
     "output_type": "stream",
     "text": [
      "                                                                                \r"
     ]
    },
    {
     "name": "stdout",
     "output_type": "stream",
     "text": [
      "+-----+-----+\n",
      "|label|count|\n",
      "+-----+-----+\n",
      "|    1|  552|\n",
      "|    2| 6385|\n",
      "|    0|  334|\n",
      "+-----+-----+\n",
      "\n"
     ]
    },
    {
     "name": "stderr",
     "output_type": "stream",
     "text": [
      "                                                                                \r"
     ]
    },
    {
     "name": "stdout",
     "output_type": "stream",
     "text": [
      "Après sur-échantillonnage (train) :\n"
     ]
    },
    {
     "name": "stderr",
     "output_type": "stream",
     "text": [
      "[Stage 838:===============================================>         (5 + 1) / 6]\r"
     ]
    },
    {
     "name": "stdout",
     "output_type": "stream",
     "text": [
      "+-----+-----+\n",
      "|label|count|\n",
      "+-----+-----+\n",
      "|    1| 6413|\n",
      "|    2| 6385|\n",
      "|    0| 6458|\n",
      "+-----+-----+\n",
      "\n"
     ]
    },
    {
     "name": "stderr",
     "output_type": "stream",
     "text": [
      "                                                                                \r"
     ]
    }
   ],
   "source": [
    "from pyspark.sql.functions import col, rand\n",
    "\n",
    "print(\"Avant sur-échantillonnage (train) :\")\n",
    "train.groupBy(\"label\").count().show()\n",
    "\n",
    "counts = train.groupBy(\"label\").count().collect()\n",
    "count_dict = {row[\"label\"]: row[\"count\"] for row in counts}\n",
    "\n",
    "max_count = max(count_dict.values())\n",
    "\n",
    "resampled = None\n",
    "\n",
    "for label_val, count in count_dict.items():\n",
    "    subset = train.filter(col(\"label\") == label_val)\n",
    "    if count < max_count:\n",
    "        ratio = max_count / count\n",
    "        sampled_subset = subset.sample(withReplacement=True, fraction=ratio)\n",
    "    else:\n",
    "        sampled_subset = subset\n",
    "\n",
    "    if resampled is None:\n",
    "        resampled = sampled_subset\n",
    "    else:\n",
    "        resampled = resampled.union(sampled_subset)\n",
    "\n",
    "resampled = resampled.orderBy(rand())\n",
    "\n",
    "print(\"Après sur-échantillonnage (train) :\")\n",
    "resampled.groupBy(\"label\").count().show()\n"
   ]
  },
  {
   "cell_type": "code",
   "execution_count": 75,
   "id": "acb90e8e",
   "metadata": {},
   "outputs": [
    {
     "name": "stderr",
     "output_type": "stream",
     "text": [
      "[Stage 988:>                                                        (0 + 1) / 1]\r"
     ]
    },
    {
     "name": "stdout",
     "output_type": "stream",
     "text": [
      "+--------------------+-----+----------+--------------------+\n",
      "|            features|label|prediction|         probability|\n",
      "+--------------------+-----+----------+--------------------+\n",
      "|(5000,[19,29,55,1...|    1|       0.0|[1.0,2.7448151071...|\n",
      "|(5000,[68,77,78,1...|    2|       2.0|[1.08523761190019...|\n",
      "|(5000,[40,133,157...|    2|       2.0|[4.92412163579333...|\n",
      "|(5000,[133,222,28...|    1|       2.0|[3.64215306091366...|\n",
      "|(5000,[5,122,594,...|    2|       1.0|[4.20773674635239...|\n",
      "+--------------------+-----+----------+--------------------+\n",
      "only showing top 5 rows\n",
      "\n"
     ]
    },
    {
     "name": "stderr",
     "output_type": "stream",
     "text": [
      "                                                                                \r"
     ]
    }
   ],
   "source": [
    "from pyspark.ml.classification import LogisticRegression\n",
    "\n",
    "lr = LogisticRegression(featuresCol=\"features\", labelCol=\"label\")\n",
    "\n",
    "# Entraîner le modèle sur la base d'entraînement équilibrée\n",
    "lr_model = lr.fit(resampled)\n",
    "\n",
    "# Faire des prédictions sur la base de test\n",
    "predictions = lr_model.transform(test)\n",
    "\n",
    "# Afficher quelques résultats de la prédiction\n",
    "predictions.select(\"features\", \"label\", \"prediction\", \"probability\").show(5)\n"
   ]
  },
  {
   "cell_type": "code",
   "execution_count": 76,
   "id": "3aa31ca4",
   "metadata": {},
   "outputs": [
    {
     "name": "stderr",
     "output_type": "stream",
     "text": [
      "[Stage 995:============================>                            (1 + 1) / 2]\r"
     ]
    },
    {
     "name": "stdout",
     "output_type": "stream",
     "text": [
      "Accuracy: 0.8088\n",
      "F1 Score: 0.8149\n",
      "Precision (pondérée): 0.8220\n",
      "Recall (pondéré): 0.8088\n"
     ]
    },
    {
     "name": "stderr",
     "output_type": "stream",
     "text": [
      "                                                                                \r"
     ]
    }
   ],
   "source": [
    "evaluator = MulticlassClassificationEvaluator(labelCol=\"label\", predictionCol=\"prediction\")\n",
    "\n",
    "accuracy = evaluator.evaluate(predictions, {evaluator.metricName: \"accuracy\"})\n",
    "f1 = evaluator.evaluate(predictions, {evaluator.metricName: \"f1\"})\n",
    "precision = evaluator.evaluate(predictions, {evaluator.metricName: \"weightedPrecision\"})\n",
    "recall = evaluator.evaluate(predictions, {evaluator.metricName: \"weightedRecall\"})\n",
    "\n",
    "print(f\"Accuracy: {accuracy:.4f}\")\n",
    "print(f\"F1 Score: {f1:.4f}\")\n",
    "print(f\"Precision (pondérée): {precision:.4f}\")\n",
    "print(f\"Recall (pondéré): {recall:.4f}\")\n"
   ]
  },
  {
   "cell_type": "code",
   "execution_count": 77,
   "id": "b9d08a25",
   "metadata": {},
   "outputs": [
    {
     "name": "stderr",
     "output_type": "stream",
     "text": [
      "[Stage 997:============================>                            (1 + 1) / 2]\r"
     ]
    },
    {
     "name": "stdout",
     "output_type": "stream",
     "text": [
      "+-----+----------+-----+\n",
      "|label|prediction|count|\n",
      "+-----+----------+-----+\n",
      "|    0|       0.0|   12|\n",
      "|    0|       1.0|   18|\n",
      "|    0|       2.0|   59|\n",
      "|    1|       0.0|   10|\n",
      "|    1|       1.0|   33|\n",
      "|    1|       2.0|   99|\n",
      "|    2|       0.0|   53|\n",
      "|    2|       1.0|  141|\n",
      "|    2|       2.0| 1562|\n",
      "+-----+----------+-----+\n",
      "\n"
     ]
    },
    {
     "name": "stderr",
     "output_type": "stream",
     "text": [
      "                                                                                \r"
     ]
    }
   ],
   "source": [
    "from pyspark.ml.evaluation import MulticlassClassificationEvaluator\n",
    "from pyspark.sql.functions import col\n",
    "\n",
    "# Prédictions\n",
    "predictions = lr_model.transform(test)\n",
    "\n",
    "# Matrice de confusion\n",
    "confusion_df = predictions.groupBy(\"label\", \"prediction\").count().orderBy(\"label\", \"prediction\")\n",
    "confusion_df.show()\n"
   ]
  },
  {
   "cell_type": "code",
   "execution_count": 90,
   "id": "6d9e020b",
   "metadata": {},
   "outputs": [],
   "source": [
    "tokenizer = Tokenizer(inputCol=\"clean_text\", outputCol=\"words\")\n",
    "remover = StopWordsRemover(inputCol=\"words\", outputCol=\"filtered_words\")\n",
    "hashingTF = HashingTF(inputCol=\"filtered_words\", outputCol=\"rawFeatures\", numFeatures=5000)\n",
    "idf = IDF(inputCol=\"rawFeatures\", outputCol=\"features\")\n",
    "lr = LogisticRegression(featuresCol=\"features\", labelCol=\"label\")\n",
    "\n",
    "# Création du pipeline complet\n",
    "pipeline = Pipeline(stages=[tokenizer, remover, hashingTF, idf, lr])"
   ]
  },
  {
   "cell_type": "code",
   "execution_count": 92,
   "id": "81ec77d8",
   "metadata": {},
   "outputs": [],
   "source": [
    "for colname in [\"words\", \"filtered_words\", \"rawFeatures\", \"features\"]:\n",
    "    if colname in resampled.columns:\n",
    "        resampled = resampled.drop(colname)\n"
   ]
  },
  {
   "cell_type": "code",
   "execution_count": 93,
   "id": "e65c9437",
   "metadata": {},
   "outputs": [
    {
     "name": "stderr",
     "output_type": "stream",
     "text": [
      "[Stage 1107:=====================================>                  (4 + 2) / 6]\r"
     ]
    }
   ],
   "source": [
    "pipeline_model = pipeline.fit(resampled) "
   ]
  },
  {
   "cell_type": "code",
   "execution_count": 95,
   "id": "4fceff64",
   "metadata": {},
   "outputs": [],
   "source": [
    "pipeline_model.save(\"review_sentiment_pipeline\")"
   ]
  },
  {
   "cell_type": "code",
   "execution_count": null,
   "id": "0308abe4",
   "metadata": {},
   "outputs": [],
   "source": []
  }
 ],
 "metadata": {
  "kernelspec": {
   "display_name": "Python 3",
   "language": "python",
   "name": "python3"
  },
  "language_info": {
   "codemirror_mode": {
    "name": "ipython",
    "version": 3
   },
   "file_extension": ".py",
   "mimetype": "text/x-python",
   "name": "python",
   "nbconvert_exporter": "python",
   "pygments_lexer": "ipython3",
   "version": "3.12.10"
  }
 },
 "nbformat": 4,
 "nbformat_minor": 5
}
