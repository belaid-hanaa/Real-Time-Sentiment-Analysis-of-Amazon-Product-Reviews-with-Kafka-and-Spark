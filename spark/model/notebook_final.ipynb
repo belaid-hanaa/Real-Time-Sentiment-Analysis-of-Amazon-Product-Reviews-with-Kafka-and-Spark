{
 "cells": [
  {
   "cell_type": "code",
   "execution_count": 1,
   "id": "e7a28d4e",
   "metadata": {},
   "outputs": [
    {
     "name": "stderr",
     "output_type": "stream",
     "text": [
      "Setting default log level to \"WARN\".\n",
      "To adjust logging level use sc.setLogLevel(newLevel). For SparkR, use setLogLevel(newLevel).\n"
     ]
    },
    {
     "name": "stdout",
     "output_type": "stream",
     "text": [
      "25/05/24 09:20:09 WARN NativeCodeLoader: Unable to load native-hadoop library for your platform... using builtin-java classes where applicable\n"
     ]
    },
    {
     "name": "stderr",
     "output_type": "stream",
     "text": [
      "                                                                                \r"
     ]
    }
   ],
   "source": [
    "from pyspark.sql import SparkSession\n",
    "\n",
    "spark = SparkSession.builder.appName(\"JSON Reader\").getOrCreate()\n",
    "df = spark.read.json(\"Data.json\")"
   ]
  },
  {
   "cell_type": "code",
   "execution_count": 2,
   "id": "895a9110",
   "metadata": {},
   "outputs": [
    {
     "name": "stdout",
     "output_type": "stream",
     "text": [
      "root\n",
      " |-- asin: string (nullable = true)\n",
      " |-- helpful: array (nullable = true)\n",
      " |    |-- element: long (containsNull = true)\n",
      " |-- overall: double (nullable = true)\n",
      " |-- reviewText: string (nullable = true)\n",
      " |-- reviewTime: string (nullable = true)\n",
      " |-- reviewerID: string (nullable = true)\n",
      " |-- reviewerName: string (nullable = true)\n",
      " |-- summary: string (nullable = true)\n",
      " |-- unixReviewTime: long (nullable = true)\n",
      "\n"
     ]
    }
   ],
   "source": [
    "df.printSchema() "
   ]
  },
  {
   "cell_type": "code",
   "execution_count": 3,
   "id": "edbd10fa",
   "metadata": {},
   "outputs": [
    {
     "name": "stdout",
     "output_type": "stream",
     "text": [
      "+----------+--------+-------+--------------------+-----------+--------------+--------------------+--------------------+--------------+\n",
      "|      asin| helpful|overall|          reviewText| reviewTime|    reviewerID|        reviewerName|             summary|unixReviewTime|\n",
      "+----------+--------+-------+--------------------+-----------+--------------+--------------------+--------------------+--------------+\n",
      "|1384719342|  [0, 0]|    5.0|Not much to write...|02 28, 2014|A2IBPI20UZIR0U|cassandra tu \"Yea...|                good|    1393545600|\n",
      "|1384719342|[13, 14]|    5.0|The product does ...|03 16, 2013|A14VAT5EAX3D9S|                Jake|                Jake|    1363392000|\n",
      "|1384719342|  [1, 1]|    5.0|The primary job o...|08 28, 2013|A195EZSQDW3E21|Rick Bennette \"Ri...|It Does The Job Well|    1377648000|\n",
      "|1384719342|  [0, 0]|    5.0|Nice windscreen p...|02 14, 2014|A2C00NNG1ZQQG2|RustyBill \"Sunday...|GOOD WINDSCREEN F...|    1392336000|\n",
      "|1384719342|  [0, 0]|    5.0|This pop filter i...|02 21, 2014| A94QU4C90B1AX|       SEAN MASLANKA|No more pops when...|    1392940800|\n",
      "+----------+--------+-------+--------------------+-----------+--------------+--------------------+--------------------+--------------+\n",
      "only showing top 5 rows\n",
      "\n"
     ]
    }
   ],
   "source": [
    "df.show(5)  "
   ]
  },
  {
   "cell_type": "code",
   "execution_count": 4,
   "id": "920ed6e5",
   "metadata": {},
   "outputs": [],
   "source": [
    "train, rest = df.randomSplit([0.8, 0.2], seed=42)\n",
    "val, test = rest.randomSplit([0.5, 0.5], seed=42)\n",
    "val =val.select(\"asin\", \"reviewText\",\"reviewTime\",\"reviewerName\")"
   ]
  },
  {
   "cell_type": "code",
   "execution_count": 5,
   "id": "37cc6abe",
   "metadata": {},
   "outputs": [
    {
     "name": "stdout",
     "output_type": "stream",
     "text": [
      "+----------+--------------------+-----------+--------------------+\n",
      "|      asin|          reviewText| reviewTime|        reviewerName|\n",
      "+----------+--------------------+-----------+--------------------+\n",
      "|B00005ML71|I got it to have ...|04 22, 2014|       Christopher C|\n",
      "|B000068NVI|I've used a lot o...|09 17, 2013|R. Wristen \"The P...|\n",
      "|B000068NW5|I am not hard on ...| 06 8, 2013|           Dr. Freud|\n",
      "|B000068NW5|Bought this for m...| 03 5, 2014|            C. Zemer|\n",
      "|B000068NW5|This is good cabl...| 10 8, 2013|     grandpa \"Randy\"|\n",
      "+----------+--------------------+-----------+--------------------+\n",
      "only showing top 5 rows\n",
      "\n"
     ]
    }
   ],
   "source": [
    "val.show(5)"
   ]
  },
  {
   "cell_type": "code",
   "execution_count": 6,
   "id": "eda1a9e3",
   "metadata": {},
   "outputs": [
    {
     "name": "stdout",
     "output_type": "stream",
     "text": [
      "Fichier sauvegardé : data_validation.json\n"
     ]
    }
   ],
   "source": [
    "import shutil\n",
    "import os\n",
    "\n",
    "val_single = val.coalesce(1)\n",
    "\n",
    "temp_path = \"temp_validation_output\"\n",
    "val_single.write.mode(\"overwrite\").json(temp_path)\n",
    "\n",
    "for file_name in os.listdir(temp_path):\n",
    "    if file_name.endswith(\".json\"):\n",
    "        source_file = os.path.join(temp_path, file_name)\n",
    "        break\n",
    "\n",
    "shutil.move(source_file, \"data_validation.json\")\n",
    "\n",
    "shutil.rmtree(temp_path)\n",
    "\n",
    "print(\"Fichier sauvegardé : data_validation.json\")"
   ]
  },
  {
   "cell_type": "code",
   "execution_count": 7,
   "id": "da569585",
   "metadata": {},
   "outputs": [],
   "source": [
    "from pyspark.sql.functions import col\n",
    "\n",
    "train = train.select(\"reviewText\", \"overall\")\n",
    "train = train.na.drop(subset=[\"reviewText\", \"overall\"])"
   ]
  },
  {
   "cell_type": "code",
   "execution_count": 8,
   "id": "766f2db6",
   "metadata": {},
   "outputs": [
    {
     "name": "stdout",
     "output_type": "stream",
     "text": [
      "+--------------------+-------+\n",
      "|          reviewText|overall|\n",
      "+--------------------+-------+\n",
      "|Nice windscreen p...|    5.0|\n",
      "|Not much to write...|    5.0|\n",
      "|The primary job o...|    5.0|\n",
      "|The product does ...|    5.0|\n",
      "|I now use this ca...|    3.0|\n",
      "+--------------------+-------+\n",
      "only showing top 5 rows\n",
      "\n"
     ]
    }
   ],
   "source": [
    "train.show(5)  "
   ]
  },
  {
   "cell_type": "code",
   "execution_count": 9,
   "id": "83f855b3",
   "metadata": {},
   "outputs": [],
   "source": [
    "test = test.select(\"reviewText\", \"overall\")\n",
    "test = test.na.drop(subset=[\"reviewText\", \"overall\"])"
   ]
  },
  {
   "cell_type": "code",
   "execution_count": 10,
   "id": "fc0c1772",
   "metadata": {},
   "outputs": [
    {
     "name": "stdout",
     "output_type": "stream",
     "text": [
      "+--------------------+-------+\n",
      "|          reviewText|overall|\n",
      "+--------------------+-------+\n",
      "|This pop filter i...|    5.0|\n",
      "|I have used monst...|    5.0|\n",
      "|Perfect for my Ep...|    5.0|\n",
      "|Fender cords look...|    5.0|\n",
      "|Cant go wrong. Gr...|    4.0|\n",
      "+--------------------+-------+\n",
      "only showing top 5 rows\n",
      "\n"
     ]
    }
   ],
   "source": [
    "test.show(5)"
   ]
  },
  {
   "cell_type": "code",
   "execution_count": 11,
   "id": "46ed5f18",
   "metadata": {},
   "outputs": [],
   "source": [
    "from pyspark.sql.functions import when, col\n",
    "\n",
    "train = train.withColumn(\n",
    "    \"label\",\n",
    "    when(col(\"overall\") < 3, 0)\n",
    "    .when(col(\"overall\") == 3, 1)\n",
    "    .otherwise(2)\n",
    ")"
   ]
  },
  {
   "cell_type": "code",
   "execution_count": 12,
   "id": "a085a8aa",
   "metadata": {},
   "outputs": [
    {
     "name": "stdout",
     "output_type": "stream",
     "text": [
      "+--------------------+-------+-----+\n",
      "|          reviewText|overall|label|\n",
      "+--------------------+-------+-----+\n",
      "|Nice windscreen p...|    5.0|    2|\n",
      "|Not much to write...|    5.0|    2|\n",
      "|The primary job o...|    5.0|    2|\n",
      "|The product does ...|    5.0|    2|\n",
      "|I now use this ca...|    3.0|    1|\n",
      "+--------------------+-------+-----+\n",
      "only showing top 5 rows\n",
      "\n"
     ]
    }
   ],
   "source": [
    "train.show(5)"
   ]
  },
  {
   "cell_type": "code",
   "execution_count": 13,
   "id": "6c642c07",
   "metadata": {},
   "outputs": [],
   "source": [
    "test = test.withColumn(\n",
    "    \"label\",\n",
    "    when(col(\"overall\") < 3, 0)\n",
    "    .when(col(\"overall\") == 3, 1)\n",
    "    .otherwise(2)\n",
    ")"
   ]
  },
  {
   "cell_type": "code",
   "execution_count": 14,
   "id": "2fa12cd6",
   "metadata": {},
   "outputs": [
    {
     "name": "stdout",
     "output_type": "stream",
     "text": [
      "+--------------------+-------+-----+\n",
      "|          reviewText|overall|label|\n",
      "+--------------------+-------+-----+\n",
      "|This pop filter i...|    5.0|    2|\n",
      "|I have used monst...|    5.0|    2|\n",
      "|Perfect for my Ep...|    5.0|    2|\n",
      "|Fender cords look...|    5.0|    2|\n",
      "|Cant go wrong. Gr...|    4.0|    2|\n",
      "+--------------------+-------+-----+\n",
      "only showing top 5 rows\n",
      "\n"
     ]
    }
   ],
   "source": [
    "test.show(5)"
   ]
  },
  {
   "cell_type": "code",
   "execution_count": 15,
   "id": "442b186a",
   "metadata": {},
   "outputs": [
    {
     "name": "stderr",
     "output_type": "stream",
     "text": [
      "[nltk_data] Downloading package stopwords to /opt/nltk_data...\n",
      "[nltk_data]   Package stopwords is already up-to-date!\n",
      "[nltk_data] Downloading package wordnet to /opt/nltk_data...\n",
      "[nltk_data]   Package wordnet is already up-to-date!\n"
     ]
    }
   ],
   "source": [
    "import re\n",
    "from pyspark.sql.functions import udf, col\n",
    "from pyspark.sql.types import StringType\n",
    "\n",
    "import nltk\n",
    "from nltk.stem import WordNetLemmatizer\n",
    "from nltk.corpus import stopwords\n",
    "\n",
    "nltk.download('stopwords')\n",
    "nltk.download('wordnet')\n",
    "\n",
    "\n",
    "stop_words = set(stopwords.words('english'))\n",
    "lemmatizer = WordNetLemmatizer()\n",
    "\n",
    "def clean_text(text):\n",
    "    if text is None:\n",
    "        return \"\"\n",
    "    text = re.sub(r'[^a-zA-Z]', ' ', text.lower())\n",
    "    tokens = text.split()\n",
    "    tokens = [lemmatizer.lemmatize(word) for word in tokens if word not in stop_words]\n",
    "    return ' '.join(tokens)\n",
    "\n",
    "clean_text_udf = udf(clean_text, StringType())\n",
    "\n",
    "train = train.withColumn(\"clean_text\", clean_text_udf(col(\"reviewText\")))\n",
    "test = test.withColumn(\"clean_text\", clean_text_udf(col(\"reviewText\")))\n",
    "\n"
   ]
  },
  {
   "cell_type": "code",
   "execution_count": 16,
   "id": "793bf5f6",
   "metadata": {},
   "outputs": [
    {
     "name": "stderr",
     "output_type": "stream",
     "text": [
      "[Stage 8:>                                                          (0 + 1) / 1]\r"
     ]
    },
    {
     "name": "stdout",
     "output_type": "stream",
     "text": [
      "+--------------------+-------+-----+--------------------+\n",
      "|          reviewText|overall|label|          clean_text|\n",
      "+--------------------+-------+-----+--------------------+\n",
      "|Nice windscreen p...|    5.0|    2|nice windscreen p...|\n",
      "|Not much to write...|    5.0|    2|much write exactl...|\n",
      "|The primary job o...|    5.0|    2|primary job devic...|\n",
      "|The product does ...|    5.0|    2|product exactly q...|\n",
      "|I now use this ca...|    3.0|    1|use cable run out...|\n",
      "+--------------------+-------+-----+--------------------+\n",
      "only showing top 5 rows\n",
      "\n"
     ]
    },
    {
     "name": "stderr",
     "output_type": "stream",
     "text": [
      "                                                                                \r"
     ]
    }
   ],
   "source": [
    "train.show(5)"
   ]
  },
  {
   "cell_type": "code",
   "execution_count": 17,
   "id": "0da7f665",
   "metadata": {},
   "outputs": [
    {
     "name": "stderr",
     "output_type": "stream",
     "text": [
      "[Stage 9:>                                                          (0 + 1) / 1]\r"
     ]
    },
    {
     "name": "stdout",
     "output_type": "stream",
     "text": [
      "+--------------------+-------+-----+--------------------+\n",
      "|          reviewText|overall|label|          clean_text|\n",
      "+--------------------+-------+-----+--------------------+\n",
      "|This pop filter i...|    5.0|    2|pop filter great ...|\n",
      "|I have used monst...|    5.0|    2|used monster cabl...|\n",
      "|Perfect for my Ep...|    5.0|    2|perfect epiphone ...|\n",
      "|Fender cords look...|    5.0|    2|fender cord look ...|\n",
      "|Cant go wrong. Gr...|    4.0|    2|cant go wrong gre...|\n",
      "+--------------------+-------+-----+--------------------+\n",
      "only showing top 5 rows\n",
      "\n"
     ]
    },
    {
     "name": "stderr",
     "output_type": "stream",
     "text": [
      "                                                                                \r"
     ]
    }
   ],
   "source": [
    "test.show(5)"
   ]
  },
  {
   "cell_type": "code",
   "execution_count": 18,
   "id": "e241539d",
   "metadata": {},
   "outputs": [],
   "source": [
    "from pyspark.ml.feature import Tokenizer, StopWordsRemover, HashingTF, IDF\n",
    "from pyspark.ml import Pipeline\n",
    "\n",
    "tokenizer = Tokenizer(inputCol=\"clean_text\", outputCol=\"words\")\n",
    "\n",
    "remover = StopWordsRemover(inputCol=\"words\", outputCol=\"filtered_words\")\n",
    "\n",
    "hashingTF = HashingTF(inputCol=\"filtered_words\", outputCol=\"rawFeatures\", numFeatures=5000)\n",
    "\n",
    "# 4. IDF : calcule le TF-IDF\n",
    "idf = IDF(inputCol=\"rawFeatures\", outputCol=\"features\")"
   ]
  },
  {
   "cell_type": "code",
   "execution_count": 19,
   "id": "e6eaa361",
   "metadata": {},
   "outputs": [
    {
     "name": "stderr",
     "output_type": "stream",
     "text": [
      "                                                                                \r"
     ]
    }
   ],
   "source": [
    "words_data = tokenizer.transform(train)\n",
    "filtered_data = remover.transform(words_data)\n",
    "featurized_data = hashingTF.transform(filtered_data)\n",
    "idf_model = idf.fit(featurized_data)\n",
    "df_tfidf = idf_model.transform(featurized_data)"
   ]
  },
  {
   "cell_type": "code",
   "execution_count": 20,
   "id": "99417559",
   "metadata": {},
   "outputs": [
    {
     "name": "stderr",
     "output_type": "stream",
     "text": [
      "                                                                                \r"
     ]
    }
   ],
   "source": [
    "words_data = tokenizer.transform(test)\n",
    "filtered_data_test = remover.transform(words_data)\n",
    "featurized_data_test = hashingTF.transform(filtered_data_test)\n",
    "idf_model_test = idf.fit(featurized_data_test)\n",
    "df_tfidf_test = idf_model.transform(featurized_data_test)"
   ]
  },
  {
   "cell_type": "code",
   "execution_count": 21,
   "id": "1bd8433a",
   "metadata": {},
   "outputs": [
    {
     "name": "stdout",
     "output_type": "stream",
     "text": [
      "Avant sur-échantillonnage (train) :\n",
      "+-----+-----+\n",
      "|label|count|\n",
      "+-----+-----+\n",
      "|    1|  616|\n",
      "|    2| 7282|\n",
      "|    0|  376|\n",
      "+-----+-----+\n",
      "\n",
      "Après sur-échantillonnage (train) :\n",
      "+-----+-----+\n",
      "|label|count|\n",
      "+-----+-----+\n",
      "|    1| 7226|\n",
      "|    2| 7282|\n",
      "|    0| 7299|\n",
      "+-----+-----+\n",
      "\n"
     ]
    }
   ],
   "source": [
    "from pyspark.sql.functions import col, rand\n",
    "\n",
    "print(\"Avant sur-échantillonnage (train) :\")\n",
    "df_tfidf.groupBy(\"label\").count().show()\n",
    "\n",
    "counts = df_tfidf.groupBy(\"label\").count().collect()\n",
    "count_dict = {row[\"label\"]: row[\"count\"] for row in counts}\n",
    "\n",
    "max_count = max(count_dict.values())\n",
    "\n",
    "resampled = None\n",
    "\n",
    "for label_val, count in count_dict.items():\n",
    "    subset = df_tfidf.filter(col(\"label\") == label_val)\n",
    "    if count < max_count:\n",
    "        ratio = max_count / count\n",
    "        sampled_subset = subset.sample(withReplacement=True, fraction=ratio)\n",
    "    else:\n",
    "        sampled_subset = subset\n",
    "\n",
    "    if resampled is None:\n",
    "        resampled = sampled_subset\n",
    "    else:\n",
    "        resampled = resampled.union(sampled_subset)\n",
    "\n",
    "resampled = resampled.orderBy(rand())\n",
    "\n",
    "print(\"Après sur-échantillonnage (train) :\")\n",
    "resampled.groupBy(\"label\").count().show()\n"
   ]
  },
  {
   "cell_type": "code",
   "execution_count": 23,
   "id": "acb90e8e",
   "metadata": {},
   "outputs": [
    {
     "name": "stderr",
     "output_type": "stream",
     "text": [
      "[Stage 344:===============================================>         (5 + 1) / 6]\r"
     ]
    },
    {
     "name": "stdout",
     "output_type": "stream",
     "text": [
      "+--------------------+-----+----------+--------------------+\n",
      "|            features|label|prediction|         probability|\n",
      "+--------------------+-----+----------+--------------------+\n",
      "|(5000,[306,385,64...|    2|       2.0|[3.04901616264223...|\n",
      "|(5000,[370,668,10...|    2|       2.0|[1.53760404311251...|\n",
      "|(5000,[157,281,81...|    2|       2.0|[1.04711785542006...|\n",
      "|(5000,[157,659,75...|    2|       2.0|[3.62754488731072...|\n",
      "|(5000,[86,750,102...|    2|       2.0|[2.71381590341281...|\n",
      "+--------------------+-----+----------+--------------------+\n",
      "only showing top 5 rows\n",
      "\n"
     ]
    },
    {
     "name": "stderr",
     "output_type": "stream",
     "text": [
      "                                                                                \r"
     ]
    }
   ],
   "source": [
    "from pyspark.ml.classification import LogisticRegression\n",
    "\n",
    "lr = LogisticRegression(featuresCol=\"features\", labelCol=\"label\")\n",
    "\n",
    "# Entraîner le modèle sur la base d'entraînement équilibrée\n",
    "lr_model = lr.fit(resampled)\n",
    "\n",
    "# Faire des prédictions sur la base de test\n",
    "predictions = lr_model.transform(df_tfidf_test)\n",
    "\n",
    "# Afficher quelques résultats de la prédiction\n",
    "predictions.select(\"features\", \"label\", \"prediction\", \"probability\").show(5)\n"
   ]
  },
  {
   "cell_type": "code",
   "execution_count": 24,
   "id": "3aa31ca4",
   "metadata": {},
   "outputs": [
    {
     "name": "stderr",
     "output_type": "stream",
     "text": [
      "[Stage 352:>                                                        (0 + 2) / 2]\r"
     ]
    },
    {
     "name": "stdout",
     "output_type": "stream",
     "text": [
      "Accuracy: 0.8147\n",
      "F1 Score: 0.8145\n",
      "Precision (pondérée): 0.8159\n",
      "Recall (pondéré): 0.8147\n"
     ]
    },
    {
     "name": "stderr",
     "output_type": "stream",
     "text": [
      "                                                                                \r"
     ]
    }
   ],
   "source": [
    "from pyspark.ml.evaluation import MulticlassClassificationEvaluator\n",
    "\n",
    "evaluator = MulticlassClassificationEvaluator(labelCol=\"label\", predictionCol=\"prediction\")\n",
    "\n",
    "accuracy = evaluator.evaluate(predictions, {evaluator.metricName: \"accuracy\"})\n",
    "f1 = evaluator.evaluate(predictions, {evaluator.metricName: \"f1\"})\n",
    "precision = evaluator.evaluate(predictions, {evaluator.metricName: \"weightedPrecision\"})\n",
    "recall = evaluator.evaluate(predictions, {evaluator.metricName: \"weightedRecall\"})\n",
    "\n",
    "print(f\"Accuracy: {accuracy:.4f}\")\n",
    "print(f\"F1 Score: {f1:.4f}\")\n",
    "print(f\"Precision (pondérée): {precision:.4f}\")\n",
    "print(f\"Recall (pondéré): {recall:.4f}\")\n"
   ]
  },
  {
   "cell_type": "code",
   "execution_count": null,
   "id": "b9d08a25",
   "metadata": {},
   "outputs": [
    {
     "name": "stderr",
     "output_type": "stream",
     "text": [
      "[Stage 1563:============================>                           (1 + 1) / 2]\r"
     ]
    },
    {
     "name": "stdout",
     "output_type": "stream",
     "text": [
      "+-----+----------+-----+\n",
      "|label|prediction|count|\n",
      "+-----+----------+-----+\n",
      "|    0|       0.0|    9|\n",
      "|    0|       1.0|    5|\n",
      "|    0|       2.0|   28|\n",
      "|    1|       0.0|    6|\n",
      "|    1|       1.0|   13|\n",
      "|    1|       2.0|   54|\n",
      "|    2|       0.0|   29|\n",
      "|    2|       1.0|   81|\n",
      "|    2|       2.0|  757|\n",
      "+-----+----------+-----+\n",
      "\n"
     ]
    },
    {
     "name": "stderr",
     "output_type": "stream",
     "text": [
      "                                                                                \r"
     ]
    }
   ],
   "source": [
    "from pyspark.ml.evaluation import MulticlassClassificationEvaluator\n",
    "from pyspark.sql.functions import col\n",
    "\n",
    "# Prédictions\n",
    "predictions = lr_model.transform(test)\n",
    "\n",
    "# Matrice de confusion\n",
    "confusion_df = predictions.groupBy(\"label\", \"prediction\").count().orderBy(\"label\", \"prediction\")\n",
    "confusion_df.show()\n"
   ]
  },
  {
   "cell_type": "code",
   "execution_count": 25,
   "id": "6d9e020b",
   "metadata": {},
   "outputs": [],
   "source": [
    "pipeline = Pipeline(stages=[tokenizer, remover, hashingTF, idf, lr])"
   ]
  },
  {
   "cell_type": "code",
   "execution_count": 26,
   "id": "81ec77d8",
   "metadata": {},
   "outputs": [],
   "source": [
    "for colname in [\"words\", \"filtered_words\", \"rawFeatures\", \"features\"]:\n",
    "    if colname in resampled.columns:\n",
    "        resampled = resampled.drop(colname)\n"
   ]
  },
  {
   "cell_type": "code",
   "execution_count": 27,
   "id": "e65c9437",
   "metadata": {},
   "outputs": [
    {
     "name": "stderr",
     "output_type": "stream",
     "text": [
      "[Stage 467:===============================================>         (5 + 1) / 6]\r"
     ]
    }
   ],
   "source": [
    "pipeline_model = pipeline.fit(resampled) "
   ]
  },
  {
   "cell_type": "code",
   "execution_count": null,
   "id": "4fceff64",
   "metadata": {},
   "outputs": [
    {
     "name": "stderr",
     "output_type": "stream",
     "text": [
      "                                                                                \r"
     ]
    }
   ],
   "source": [
    "pipeline_model.save(\"review_sentiment\")"
   ]
  },
  {
   "cell_type": "code",
   "execution_count": null,
   "id": "0308abe4",
   "metadata": {},
   "outputs": [],
   "source": []
  }
 ],
 "metadata": {
  "kernelspec": {
   "display_name": "Python 3",
   "language": "python",
   "name": "python3"
  },
  "language_info": {
   "codemirror_mode": {
    "name": "ipython",
    "version": 3
   },
   "file_extension": ".py",
   "mimetype": "text/x-python",
   "name": "python",
   "nbconvert_exporter": "python",
   "pygments_lexer": "ipython3",
   "version": "3.10.13"
  }
 },
 "nbformat": 4,
 "nbformat_minor": 5
}
